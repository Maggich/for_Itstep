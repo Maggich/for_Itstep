{
 "cells": [
  {
   "cell_type": "code",
   "execution_count": 1,
   "metadata": {},
   "outputs": [
    {
     "name": "stdout",
     "output_type": "stream",
     "text": [
      "---Keys---\n",
      "phone\n",
      "laptop\n",
      "car\n",
      "\n",
      "---Values---\n",
      "Iphone\n",
      "Macbook\n",
      "Tesla\n",
      "\n",
      "---Items---\n",
      "phone Iphone\n",
      "laptop Macbook\n",
      "car Tesla\n"
     ]
    }
   ],
   "source": [
    "dict_1 = {\"phone\":\"Iphone\", \"laptop\":\"Macbook\", \"car\": \"Tesla\"}\n",
    "print(\"---Keys---\")\n",
    "for key in dict_1.keys():\n",
    "    print(key)\n",
    "print(\"\")\n",
    "print(\"---Values---\")\n",
    "for value in dict_1.values():\n",
    "    print(value)\n",
    "print(\"\")\n",
    "print(\"---Items---\")\n",
    "for key, item in dict_1.items():\n",
    "    print(key, item)"
   ]
  }
 ],
 "metadata": {
  "kernelspec": {
   "display_name": ".venv",
   "language": "python",
   "name": "python3"
  },
  "language_info": {
   "codemirror_mode": {
    "name": "ipython",
    "version": 3
   },
   "file_extension": ".py",
   "mimetype": "text/x-python",
   "name": "python",
   "nbconvert_exporter": "python",
   "pygments_lexer": "ipython3",
   "version": "3.13.1"
  }
 },
 "nbformat": 4,
 "nbformat_minor": 2
}
