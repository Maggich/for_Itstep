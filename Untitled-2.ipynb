{
 "cells": [
  {
   "cell_type": "code",
   "execution_count": 2,
   "metadata": {},
   "outputs": [
    {
     "name": "stdout",
     "output_type": "stream",
     "text": [
      "Продажи за неделю: [126 164 100 189 160 137  69]\n",
      "Среднее значение продаж: 126.42857142857143\n",
      "Медиана продаж: 118.0\n",
      "Максимальные продажи: 197\n",
      "Минимальные продажи: 72\n",
      "Суммарные продажи за неделю: 885\n"
     ]
    }
   ],
   "source": [
    "import numpy as np\n",
    "\n",
    "# Создание массива данных (продажи товаров в штуках по дням недели)\n",
    "sales = np.random.randint(50, 200, size=7)\n",
    "\n",
    "# Анализ данных\n",
    "среднее = np.mean(sales)\n",
    "медиана = np.median(sales)\n",
    "макс = np.max(sales)\n",
    "мин = np.min(sales)\n",
    "сумма = np.sum(sales)\n",
    "\n",
    "# Вывод результатов\n",
    "print(\"Продажи за неделю:\", продажи)\n",
    "print(\"Среднее значение продаж:\", среднее)\n",
    "print(\"Медиана продаж:\", медиана)\n",
    "print(\"Максимальные продажи:\", макс)\n",
    "print(\"Минимальные продажи:\", мин)\n",
    "print(\"Суммарные продажи за неделю:\", сумма)"
   ]
  }
 ],
 "metadata": {
  "kernelspec": {
   "display_name": "pandas_kernel",
   "language": "python",
   "name": "pandas_kernel"
  },
  "language_info": {
   "codemirror_mode": {
    "name": "ipython",
    "version": 3
   },
   "file_extension": ".py",
   "mimetype": "text/x-python",
   "name": "python",
   "nbconvert_exporter": "python",
   "pygments_lexer": "ipython3",
   "version": "3.13.1"
  }
 },
 "nbformat": 4,
 "nbformat_minor": 2
}
